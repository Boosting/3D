{
 "cells": [
  {
   "cell_type": "markdown",
   "metadata": {},
   "source": [
    "Generative Adversarial Networks（GAN）\n",
    "============================================\n",
    "\n",
    "Before ( Intuition Philosophy motivation)\n",
    "--------------\n",
    "> ### “What I cannot create, I do not understand.”  \n",
    ">                                           — Richard Feynman\n",
    "\n",
    "The trick is that the neural networks we use as generative models have a number of parameters significantly smaller than the amount of data we train them on, so the models are forced to discover and efficiently internalize the essence of the data in order to generate it.\n",
    "\n",
    "***\n",
    "### * main idea\n",
    "comes from:  \n",
    "**Game Theory**: zero-sum two-person game / **nash equilibrium**\n",
    "\n",
    "discriminator **VS** generator  \n",
    "\n",
    "> These two networks are therefore locked in a battle: the **discriminator(D)** is trying to distinguish real images from fake images and the **generator(G)** is trying to create images that make the discriminator think they are real. In the end, the generator network is outputting images that are indistinguishable from real images for the discriminator.  \n",
    "\n",
    "![GAN](https://blog.slinuxer.com/wp-content/uploads/2016/10/gan.jpg)\n",
    "\n",
    "\n",
    "### * Loss\n",
    "> $$ \\min_{G}\\max_{D}\\  \\frac{1}{m}\\sum_{i=1}^{m}[logD(x^i)+log(1-D(G(z^i)))] $$\n",
    "\n",
    "![gt](http://upload-images.jianshu.io/upload_images/743541-92c379ef810d5db1.png?imageMogr2/auto-orient/strip%7CimageView2/2)\n",
    "\n",
    "### * Pros and Cons\n",
    "\n",
    "\n",
    "GAN [[paper]](https://arxiv.org/pdf/1406.2661v1.pdf)  \n",
    "DCGAN [[paper]](https://arxiv.org/pdf/1511.06434v2.pdf) [[github]](https://github.com/Newmu/dcgan_code)\n",
    "\n",
    "\n",
    "\n",
    "* Arithmetic on faces  \n",
    "![arithmetic](https://raw.githubusercontent.com/Newmu/dcgan_code/master/images/faces_arithmetic_collage.png)\n",
    "\n",
    "* Rotations are linear in latent space\n",
    "![rotations](https://raw.githubusercontent.com/Newmu/dcgan_code/master/images/turn_vector.png)\n",
    "\n",
    "\n",
    "#### Other apps using GAN:  \n",
    "Image Completion with Deep Learning in TensorFlow [[blog]](http://bamos.github.io/2016/08/09/deep-completion/#introduction)  \n",
    "\n",
    "http://bamos.github.io/2016/08/09/deep-completion/#step-1-interpreting-images-as-samples-from-a-probability-distribution"
   ]
  },
  {
   "cell_type": "code",
   "execution_count": null,
   "metadata": {
    "collapsed": true
   },
   "outputs": [],
   "source": []
  }
 ],
 "metadata": {
  "kernelspec": {
   "display_name": "Python 2",
   "language": "python",
   "name": "python2"
  },
  "language_info": {
   "codemirror_mode": {
    "name": "ipython",
    "version": 2
   },
   "file_extension": ".py",
   "mimetype": "text/x-python",
   "name": "python",
   "nbconvert_exporter": "python",
   "pygments_lexer": "ipython2",
   "version": "2.7.11"
  }
 },
 "nbformat": 4,
 "nbformat_minor": 0
}
