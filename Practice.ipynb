{
 "cells": [
  {
   "cell_type": "markdown",
   "metadata": {},
   "source": [
    "3D reconstruction\n",
    "===================\n",
    "\n",
    "Foundation: 3DMM\n",
    "-----------------\n",
    "（1）采集大量人脸3D模型，通过optical flow或shape feature matching等方法获得人脸3D点云的点的一一对应关系，从而得到3D人脸的向量表示，其中可分为shape vector(x,y,z), texture vector(r,g,b)。  \n",
    "（2）通过pca计算一组用于表示3d人脸线性空间的基向量，任意3d人脸可表达为一组基向量的参数。  \n",
    "（3）基于任意2d人脸图像，通过拟合或者regression模型寻找最符合2d人脸图像的3d人脸模型。  \n",
    "（4）对3d人脸模型进行旋正，获得virtualized正面人脸图像，进行识别。  \n",
    "\n",
    "Basel Face Model\n",
    "------------------\n",
    "we can get the face model(load 01_MorphableModel.mat)  \n",
    "* shapeMU: The average shape  \n",
    "* shapePC: The principal shape components  \n",
    "* shapeEV: The shape variance  \n",
    "* texMU: The average texture  \n",
    "* texPC: The principal texture components  \n",
    "* texEV: The texture variance  \n",
    "\n",
    "Then, any 3D face can be expressed as: \n",
    "\n",
    "$ S_{model}=\\overline{S}+\\sum_{i=1}^{m-1}{\\alpha_is_i} \\ \\ (1)$  \n",
    "\n",
    "$ T_{model}=\\overline{T}+\\sum_{i=1}^{m-1}{\\beta_it_i} \\ \\ (2)$\n",
    "\n",
    "__The problem__ is  \n",
    "how to etismate $\\alpha$ and $\\beta$   "
   ]
  },
  {
   "cell_type": "code",
   "execution_count": 3,
   "metadata": {
    "collapsed": false
   },
   "outputs": [
    {
     "name": "stdout",
     "output_type": "stream",
     "text": [
      "02_scans_matlab\n",
      "01_MorphableModel.mat\n",
      "13_symmetry_indices\n",
      "04_attributes.mat\n",
      "PublicMM1\n",
      "05_renderings\n",
      "11_feature_points\n",
      "matlab\n",
      "03_scans_ply\n",
      "09_mask\n"
     ]
    }
   ],
   "source": [
    "import numpy as np\n",
    "import os\n",
    "import scipy.io as sio\n",
    "\n",
    "data_prefix='/home/fengyao/Data/BaselFaceModel/'\n",
    "\n",
    "for file in os.listdir(data_prefix):\n",
    "    print file\n",
    "    \n",
    "model=sio.loadmat(data_prefix+'01_MorphableModel.mat')\n",
    "\n",
    "#msz.n_shape_dim = size(model.shapePC, 2)\n",
    "#msz.n_tex_dim   = size(model.texPC,   2)\n",
    "#msz.n_seg       = size(model.segbin,  2) \n"
   ]
  },
  {
   "cell_type": "code",
   "execution_count": 15,
   "metadata": {
    "collapsed": false
   },
   "outputs": [],
   "source": [
    "# random a alpha and beta to get a face\n",
    "alpha= np.random.randn(model['shapePC'].shape[1],1)\n",
    "beta= np.random.randn(model['texPC'].shape[1],1)\n",
    "\n",
    "#obj = mu*ones([1 n_seg]) + pc(:,1:n_dim) * (coef .* (ev(1:n_dim)*ones([1 n_seg])) );\n",
    "\n",
    "shape=model['shapeMU']+ np.dot(model[' '],alpha*model['shapeEV'])\n",
    "texture=model['texMU']+ np.dot(model['texPC'],beta*model['texEV'])\n",
    "\n",
    "# show\n"
   ]
  }
 ],
 "metadata": {
  "anaconda-cloud": {},
  "kernelspec": {
   "display_name": "Python [conda root]",
   "language": "python",
   "name": "conda-root-py"
  },
  "language_info": {
   "codemirror_mode": {
    "name": "ipython",
    "version": 2
   },
   "file_extension": ".py",
   "mimetype": "text/x-python",
   "name": "python",
   "nbconvert_exporter": "python",
   "pygments_lexer": "ipython2",
   "version": "2.7.12"
  }
 },
 "nbformat": 4,
 "nbformat_minor": 1
}
