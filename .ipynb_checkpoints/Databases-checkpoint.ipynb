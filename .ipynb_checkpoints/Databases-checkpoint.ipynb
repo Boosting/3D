{
 "cells": [
  {
   "cell_type": "markdown",
   "metadata": {},
   "source": [
    "Databases\n",
    "=====================\n",
    "\n",
    "\n",
    "CMU-PIE (common use）\n",
    "--------------------------------\n",
    "http://www.ri.cmu.edu/research_project_detail.html?project_id=418&menu_id=261\n",
    "> We call this database the CMU Pose, Illumination, and Expression (PIE) database.\n",
    "\n",
    "\n",
    "** 41,368 images of 68 people.**   \n",
    "* 13 different poses  \n",
    "![poses](http://www.ri.cmu.edu/images/projects/pie_p.jpg)\n",
    "\n",
    "* 43 different illumination conditions  \n",
    "![illuminations](images/databases/illumination.png,)\n",
    "\n",
    "* 4 different expressions  \n",
    "![expressions](http://www.ri.cmu.edu/images/projects/pie_e.jpg)\n",
    "\n",
    "\n",
    "FERET (common use)\n",
    "----------------\n",
    "gray-scale vison: http://www.itl.nist.gov/iad/humanid/feret/ (not available now)  \n",
    "color-scale vision: https://www.nist.gov/itl/iad/image-group/color-feret-database  \n",
    "> The FERET database is a standard dataset used for facial recognition system evaluation  \n",
    "\n",
    "** 2,413 still facial images of 856 individuals. ** \n",
    "\n",
    "* size: ~8.5G\n",
    "\n",
    "\n",
    "\n",
    "USF Human ID 3D, Multi-PIE, FacePix(30)  \n"
   ]
  }
 ],
 "metadata": {
  "kernelspec": {
   "display_name": "Python 2",
   "language": "python",
   "name": "python2"
  },
  "language_info": {
   "codemirror_mode": {
    "name": "ipython",
    "version": 2
   },
   "file_extension": ".py",
   "mimetype": "text/x-python",
   "name": "python",
   "nbconvert_exporter": "python",
   "pygments_lexer": "ipython2",
   "version": "2.7.11"
  }
 },
 "nbformat": 4,
 "nbformat_minor": 0
}
